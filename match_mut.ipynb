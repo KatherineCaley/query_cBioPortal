{
 "cells": [
  {
   "cell_type": "code",
   "execution_count": 1,
   "metadata": {},
   "outputs": [],
   "source": [
    "import pandas as pd"
   ]
  },
  {
   "cell_type": "code",
   "execution_count": 2,
   "metadata": {},
   "outputs": [],
   "source": [
    "# read in the cancers from the cancers.txt file\n",
    "with open(\"cancers.txt\", 'r') as f:\n",
    "    cancers = [cancer.strip() for cancer in f]\n"
   ]
  },
  {
   "cell_type": "code",
   "execution_count": null,
   "metadata": {},
   "outputs": [],
   "source": [
    "# load the mutation and expression matricies and combine them into one matrix on the \n",
    "for cancer in cancers:\n",
    "    muts_df = pd.read_csv(f\"~/repos/code4tai/data/mutation_matrices/{cancer}_mut_matrix.csv\", index_col=0)\n",
    "    exprs = pd.read_csv(f\"~/repos/code4tai/data/match_TCGA_slide_rna/{cancer.upper()}_slide_matched.csv\", index_col='tissue_submitter_id')\n",
    "    combined = pd.merge(exprs, muts_df, right_index=True, left_index=True, how='left')\n",
    "\n",
    "    combined.to_csv(f\"~/repos/code4tai/data/mut_expr_matrices/{cancer}_mut_expr_matrix.csv\")"
   ]
  }
 ],
 "metadata": {
  "kernelspec": {
   "display_name": "Python 3.8.13",
   "language": "python",
   "name": "python3"
  },
  "language_info": {
   "codemirror_mode": {
    "name": "ipython",
    "version": 3
   },
   "file_extension": ".py",
   "mimetype": "text/x-python",
   "name": "python",
   "nbconvert_exporter": "python",
   "pygments_lexer": "ipython3",
   "version": "3.8.13"
  },
  "orig_nbformat": 4,
  "vscode": {
   "interpreter": {
    "hash": "0dbfb89f07142cad4f01052f3d30383946deda4903fb7029830b7eba558fb283"
   }
  }
 },
 "nbformat": 4,
 "nbformat_minor": 2
}
