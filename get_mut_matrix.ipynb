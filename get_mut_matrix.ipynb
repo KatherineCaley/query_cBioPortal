{
 "cells": [
  {
   "cell_type": "code",
   "execution_count": 12,
   "metadata": {},
   "outputs": [],
   "source": [
    "from bravado.client import SwaggerClient\n",
    "import pandas as pd"
   ]
  },
  {
   "cell_type": "code",
   "execution_count": 13,
   "metadata": {},
   "outputs": [],
   "source": [
    "cbioportal = SwaggerClient.from_url('https://www.cbioportal.org/api/v2/api-docs',\n",
    "                                    config={\"validate_requests\":False,\"validate_responses\":False,\"validate_swagger_spec\": False})"
   ]
  },
  {
   "cell_type": "code",
   "execution_count": 14,
   "metadata": {},
   "outputs": [],
   "source": [
    "# read in the genes from the genes.txt file\n",
    "with open(\"genes.txt\", 'r') as f:\n",
    "    genes = [gene.strip() for gene in f]\n",
    "entrezGeneIds = {cbioportal.Genes.getGeneUsingGET(geneId=gene).result().entrezGeneId: gene for gene in genes}"
   ]
  },
  {
   "cell_type": "code",
   "execution_count": 15,
   "metadata": {},
   "outputs": [],
   "source": [
    "# read in the cancers from the cancers.txt file\n",
    "with open(\"cancers.txt\", 'r') as f:\n",
    "    cancers = [cancer.strip() for cancer in f]"
   ]
  },
  {
   "cell_type": "code",
   "execution_count": 16,
   "metadata": {},
   "outputs": [],
   "source": [
    "samples = cbioportal.Samples.getAllSamplesInStudyUsingGET(studyId='BRCA_tcga_pan_can_atlas_2018').response().result"
   ]
  },
  {
   "cell_type": "code",
   "execution_count": 18,
   "metadata": {},
   "outputs": [],
   "source": [
    "for cancer in cancers:\n",
    "    # get the entire list of sampleIDs in the tcga cancer study\n",
    "    samples = cbioportal.Samples.getAllSamplesInStudyUsingGET(studyId=f'{cancer}_tcga_pan_can_atlas_2018').response().result\n",
    "    sample_patient = {sample['sampleId']: sample['patientId'] for sample in samples}\n",
    "\n",
    "    # create a dataframe with the sampleId as the index, patient_id as a column, and the genes as the columns with gene values to 0\n",
    "    df_blank = pd.DataFrame(index=sample_patient.keys(), columns=entrezGeneIds.values(), data=0)\n",
    "\n",
    "    # create a dataframe from sample_patient, sampleID as index, patient_id as column\n",
    "    df_patient = pd.DataFrame.from_dict(sample_patient, orient='index', columns=['patient_id'])\n",
    "\n",
    "    # merge df_blank and df_patient\n",
    "    df = pd.merge(df_blank, df_patient, left_index=True, right_index=True)\n",
    "\n",
    "    # move patient_id column to the front\n",
    "    cols = df.columns.tolist()\n",
    "    cols = cols[-1:] + cols[:-1]\n",
    "    df = df[cols]\n",
    "\n",
    "    # query the portal for the mutations for the cancer study\n",
    "    muts = cbioportal.Mutations.getMutationsInMolecularProfileBySampleListIdUsingGET(\n",
    "        molecularProfileId=f'{cancer}_tcga_pan_can_atlas_2018_mutations', # {study_id}_mutations gives default mutations profile for study \n",
    "        sampleListId=f'{cancer}_tcga_pan_can_atlas_2018_all', # {study_id}_all includes all samples\n",
    "        projection=\"DETAILED\" # include gene info\n",
    "        ).result()\n",
    "\n",
    "    # load the mutations into the dataframe\n",
    "    for m in muts:\n",
    "        if m[\"entrezGeneId\"] in entrezGeneIds.keys():\n",
    "            # only add the mutation if the index exists in the dataframe\n",
    "            df.loc[m['sampleId']][entrezGeneIds[m[\"entrezGeneId\"]]] = 1\n",
    "    \n",
    "    # save the dataframe to a csv file\n",
    "    df.to_csv(f\"queried_data/mutation_matrices/{cancer}_mut_matrix.csv\")"
   ]
  },
  {
   "cell_type": "code",
   "execution_count": null,
   "metadata": {},
   "outputs": [],
   "source": []
  }
 ],
 "metadata": {
  "kernelspec": {
   "display_name": "Python 3.8.13",
   "language": "python",
   "name": "python3"
  },
  "language_info": {
   "codemirror_mode": {
    "name": "ipython",
    "version": 3
   },
   "file_extension": ".py",
   "mimetype": "text/x-python",
   "name": "python",
   "nbconvert_exporter": "python",
   "pygments_lexer": "ipython3",
   "version": "3.8.13"
  },
  "orig_nbformat": 4,
  "vscode": {
   "interpreter": {
    "hash": "0dbfb89f07142cad4f01052f3d30383946deda4903fb7029830b7eba558fb283"
   }
  }
 },
 "nbformat": 4,
 "nbformat_minor": 2
}
